{
 "cells": [
  {
   "cell_type": "markdown",
   "metadata": {
    "slideshow": {
     "slide_type": "slide"
    }
   },
   "source": [
    "# COVID 19 Daily Cases Using Open Data\n",
    "\n",
    "##### Author: Laura G. Funderburk\n",
    "##### Date: July 28 2020\n",
    "##### Last modified: July 29 2020\n",
    "\n",
    "### Intro\n",
    "\n",
    "In this notebook I will visualize COVID 19 Daily cases in Canada and other countries using Python. \n",
    "\n",
    "### Source\n",
    "\n",
    "COVID-19 Data Repository by the Center for Systems Science and Engineering (CSSE) at Johns Hopkins University https://github.com/CSSEGISandData/COVID-19.\n",
    "\n",
    "Dong E, Du H, Gardner L. An interactive web-based dashboard to track COVID-19 in real time. Lancet Infect Dis; published online Feb 19. https://doi.org/10.1016/S1473-3099(20)30120-1.\n",
    "\n",
    "This notebook uses an API implemented by https://github.com/CSSEGISandData/COVID-19/issues/851"
   ]
  },
  {
   "cell_type": "code",
   "execution_count": null,
   "metadata": {
    "slideshow": {
     "slide_type": "skip"
    }
   },
   "outputs": [],
   "source": [
    "# Importing libraries\n",
    "import requests as r \n",
    "import pandas as pd\n",
    "import plotly.express as px\n",
    "import plotly.graph_objects as go\n",
    "\n",
    "#do this if you don't have the latest pandas version\n",
    "#from pandas.io.json import json_normalize"
   ]
  },
  {
   "cell_type": "markdown",
   "metadata": {
    "slideshow": {
     "slide_type": "slide"
    }
   },
   "source": [
    "Now we are going to download the data using the API. "
   ]
  },
  {
   "cell_type": "code",
   "execution_count": null,
   "metadata": {
    "slideshow": {
     "slide_type": "fragment"
    }
   },
   "outputs": [],
   "source": [
    "# Get API LINK with confirmed cases\n",
    "API_LINK= \"https://covid19api.herokuapp.com/deaths\"\n",
    "# Pull data\n",
    "json_data = r.get(API_LINK).json()"
   ]
  },
  {
   "cell_type": "markdown",
   "metadata": {
    "slideshow": {
     "slide_type": "fragment"
    }
   },
   "source": [
    "Once we have downloaded the data, we will format it into a pandas dataframe using the `locations` column."
   ]
  },
  {
   "cell_type": "code",
   "execution_count": null,
   "metadata": {
    "slideshow": {
     "slide_type": "fragment"
    }
   },
   "outputs": [],
   "source": [
    "confirmed_df = pd.json_normalize(json_data,record_path=['locations'])\n",
    "# do this if you don't have the latest pandas version\n",
    "# json_nomrmalize(json_data,record_path=['locations'])"
   ]
  },
  {
   "cell_type": "markdown",
   "metadata": {
    "slideshow": {
     "slide_type": "slide"
    }
   },
   "source": [
    "We will then reset the index to the `country` column."
   ]
  },
  {
   "cell_type": "code",
   "execution_count": null,
   "metadata": {
    "slideshow": {
     "slide_type": "fragment"
    }
   },
   "outputs": [],
   "source": [
    "confirmed_df.set_index('country',inplace=True)"
   ]
  },
  {
   "cell_type": "markdown",
   "metadata": {
    "slideshow": {
     "slide_type": "slide"
    }
   },
   "source": [
    "This is what our data looks like:"
   ]
  },
  {
   "cell_type": "code",
   "execution_count": null,
   "metadata": {
    "scrolled": true,
    "slideshow": {
     "slide_type": "fragment"
    }
   },
   "outputs": [],
   "source": [
    "confirmed_df.head()"
   ]
  },
  {
   "cell_type": "markdown",
   "metadata": {
    "slideshow": {
     "slide_type": "slide"
    }
   },
   "source": [
    "We next need to remove the \"coordinates\" and \"history\" prefix - this will make plotting and manipulating our data easier. \n",
    "\n",
    "We will define a function to remove the prefix for us. "
   ]
  },
  {
   "cell_type": "code",
   "execution_count": null,
   "metadata": {
    "slideshow": {
     "slide_type": "slide"
    }
   },
   "outputs": [],
   "source": [
    "# Define a function to drop the history.prefix\n",
    "# Create function drop_prefix\n",
    "def drop_prefix(self, prefix):\n",
    "    self.columns = self.columns.str.lstrip(prefix)\n",
    "    return self\n",
    "\n",
    "# Call function\n",
    "pd.core.frame.DataFrame.drop_prefix = drop_prefix"
   ]
  },
  {
   "cell_type": "markdown",
   "metadata": {
    "slideshow": {
     "slide_type": "slide"
    }
   },
   "source": [
    "We want to clean up our data a bit - let's remove prefices, and sort by date. "
   ]
  },
  {
   "cell_type": "code",
   "execution_count": null,
   "metadata": {
    "slideshow": {
     "slide_type": "fragment"
    }
   },
   "outputs": [],
   "source": [
    "# Define function which removes history. prefix, and orders the column dates in ascending order\n",
    "def order_dates(flat_df):\n",
    "    \"\"\"This function takes as input a dataframe containing\n",
    "    daily COVID 19 cases and as output generates a dataframe\n",
    "    ordered by date, where prefices history and coordinated \n",
    "    are removed\"\"\"\n",
    "    # Drop prefix\n",
    "    flat_df.drop_prefix('history.')\n",
    "    flat_df.drop_prefix(\"coordinates.\")\n",
    "    # Isolate dates columns\n",
    "    flat_df.iloc[:,6:].columns = pd.to_datetime(flat_df.iloc[:,6:].columns)\n",
    "    # Transform to datetim format\n",
    "    sub = flat_df.iloc[:,6:]\n",
    "    sub.columns = pd.to_datetime(sub.columns)\n",
    "    # Sort\n",
    "    sub2 = sub.reindex(sorted(sub.columns), axis=1)\n",
    "    sub3 = flat_df.reindex(sorted(flat_df.columns),axis=1).iloc[:,-5:]\n",
    "    # Concatenate\n",
    "    final = pd.concat([sub2,sub3], axis=1, sort=False)\n",
    "    return final"
   ]
  },
  {
   "cell_type": "code",
   "execution_count": null,
   "metadata": {
    "slideshow": {
     "slide_type": "slide"
    }
   },
   "outputs": [],
   "source": [
    "final = order_dates(confirmed_df)\n",
    "final.head()"
   ]
  },
  {
   "cell_type": "code",
   "execution_count": null,
   "metadata": {
    "slideshow": {
     "slide_type": "skip"
    }
   },
   "outputs": [],
   "source": [
    "condition = final.index=='US'\n",
    "final[condition]"
   ]
  },
  {
   "cell_type": "code",
   "execution_count": null,
   "metadata": {
    "slideshow": {
     "slide_type": "skip"
    }
   },
   "outputs": [],
   "source": [
    "transposed_final = final[final.index=='Canada'].set_index(\"province\").T.iloc[:-4,]"
   ]
  },
  {
   "cell_type": "code",
   "execution_count": null,
   "metadata": {
    "slideshow": {
     "slide_type": "fragment"
    }
   },
   "outputs": [],
   "source": [
    "transposed_final.head()"
   ]
  },
  {
   "cell_type": "markdown",
   "metadata": {
    "slideshow": {
     "slide_type": "slide"
    }
   },
   "source": [
    "## Visualizing Total (Cumulative) Cases per Province\n",
    "\n",
    "Run the cell below to get the provinces. "
   ]
  },
  {
   "cell_type": "code",
   "execution_count": null,
   "metadata": {
    "slideshow": {
     "slide_type": "fragment"
    }
   },
   "outputs": [],
   "source": [
    "transposed_final.columns"
   ]
  },
  {
   "cell_type": "markdown",
   "metadata": {
    "slideshow": {
     "slide_type": "slide"
    }
   },
   "source": [
    "Select one of the provinces from the list, and enter it in the `province` variable in the code below."
   ]
  },
  {
   "cell_type": "code",
   "execution_count": null,
   "metadata": {
    "scrolled": false,
    "slideshow": {
     "slide_type": "fragment"
    }
   },
   "outputs": [],
   "source": [
    "province = \"British Columbia\"\n",
    "px.scatter(transposed_final,\\\n",
    "           x=transposed_final.index,\n",
    "           y=province,\n",
    "          title='Cumulative Cases in ' + str(province),\n",
    "          labels=\n",
    "           {\"x\":\"Time (daily)\",\n",
    "           str(province):\"Number of reported deaths in \"\n",
    "            + str(province)})"
   ]
  },
  {
   "cell_type": "markdown",
   "metadata": {},
   "source": [
    "## Observations\n",
    "\n",
    "We see that for most provinces there is an increase in the cumulative number of cases between January and July 2020."
   ]
  },
  {
   "cell_type": "markdown",
   "metadata": {},
   "source": [
    "## Total Cumulative and Non-Cumulative Cases in the Country\n",
    "\n",
    "In this section we will visualize cumulative and daily (non-cumulative) cases in Canada. "
   ]
  },
  {
   "cell_type": "code",
   "execution_count": null,
   "metadata": {},
   "outputs": [],
   "source": [
    "transposed_final.head(1)"
   ]
  },
  {
   "cell_type": "code",
   "execution_count": null,
   "metadata": {},
   "outputs": [],
   "source": [
    "# Getting cumulative cases\n",
    "transposed_final[\"TotalDailyCase\"] = transposed_final.sum(axis=1)"
   ]
  },
  {
   "cell_type": "code",
   "execution_count": null,
   "metadata": {},
   "outputs": [],
   "source": [
    "transposed_final.tail()"
   ]
  },
  {
   "cell_type": "code",
   "execution_count": null,
   "metadata": {},
   "outputs": [],
   "source": [
    "px.scatter(transposed_final,\n",
    "          x=transposed_final.index,\n",
    "          y=\"TotalDailyCase\",\n",
    "          title=\"Total (cumulative) COVID19 Reported Deaths in Canada \",\n",
    "          labels={\"x\":\"Time (daily)\",\n",
    "                 \"TotalDailyCase\": \"Total number of reported deaths\"})"
   ]
  },
  {
   "cell_type": "markdown",
   "metadata": {},
   "source": [
    "We want to get more granularity with respect to our cases. \n",
    "\n",
    "Let's look at non-cumulative reported infections. \n",
    "\n",
    "___\n",
    "\n",
    "## Non-cumulative cases in Canada"
   ]
  },
  {
   "cell_type": "code",
   "execution_count": null,
   "metadata": {},
   "outputs": [],
   "source": [
    "non_cumulative = transposed_final.diff(axis=0)"
   ]
  },
  {
   "cell_type": "code",
   "execution_count": null,
   "metadata": {},
   "outputs": [],
   "source": [
    "non_cumulative.tail()"
   ]
  },
  {
   "cell_type": "code",
   "execution_count": null,
   "metadata": {},
   "outputs": [],
   "source": [
    "import plotly.graph_objects as go\n",
    "\n",
    "layout = go.Layout(yaxis=dict(range=[0, 3000]))\n",
    "fig = px.line(non_cumulative,\n",
    "          x=non_cumulative.index,\n",
    "          y=\"TotalDailyCase\",\n",
    "       title=\"Daily (non-cumulative) COVID19 reported deaths in Canada\",\n",
    "       labels={\"x\": \"Time (days)\",\n",
    "              \"TotalDailyCase\":\"Non cumulative reported daily deaths\"})\n",
    "                   \n",
    "fig.update_layout(yaxis=dict(range=[0,3000]))\n",
    "fig.show()"
   ]
  },
  {
   "cell_type": "markdown",
   "metadata": {},
   "source": [
    "## Final remarks\n",
    "\n",
    "We observe a first wave of COVID 19 cases  during March 2020 to June 2020, followed by what seems to be a second wave. "
   ]
  }
 ],
 "metadata": {
  "celltoolbar": "Slideshow",
  "kernelspec": {
   "display_name": "Python 3",
   "language": "python",
   "name": "python3"
  },
  "language_info": {
   "codemirror_mode": {
    "name": "ipython",
    "version": 3
   },
   "file_extension": ".py",
   "mimetype": "text/x-python",
   "name": "python",
   "nbconvert_exporter": "python",
   "pygments_lexer": "ipython3",
   "version": "3.7.6"
  }
 },
 "nbformat": 4,
 "nbformat_minor": 4
}
